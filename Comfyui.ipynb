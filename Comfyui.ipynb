{
 "cells": [
  {
   "cell_type": "markdown",
   "metadata": {},
   "source": [
    "# ComfyUI\n",
    "\n",
    "Once haproxy is started (it will run in the background), you can run the\n",
    "following block to start comfyui."
   ],
   "id": "6da23d66-666f-46d5-84d7-48e2bcace177"
  },
  {
   "cell_type": "code",
   "execution_count": null,
   "metadata": {},
   "outputs": [],
   "source": [
    "%cd /opt/comfyui\n",
    "\n",
    "# Link models\n",
    "!ln -fs /notebooks/comfyui_config.yaml /opt/comfyui/extra_model_paths.yaml\n",
    "\n",
    "# Start comfyui\n",
    "!python3 main.py --listen 127.0.0.1 --port 8888\n"
   ],
   "id": "23b0717c-5330-40e7-ba4d-db23d023edc3"
  }
 ],
 "nbformat": 4,
 "nbformat_minor": 5,
 "metadata": {}
}
