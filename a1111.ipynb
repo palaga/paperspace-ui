{
 "cells": [
  {
   "cell_type": "markdown",
   "metadata": {},
   "source": [
    "# Automatic1111"
   ],
   "id": "9d99398f-624a-4040-8e8f-c81bc00d0a92"
  },
  {
   "cell_type": "code",
   "execution_count": null,
   "metadata": {},
   "outputs": [],
   "source": [
    "%cd /opt/A1111\n",
    "\n",
    "username = \"username\"\n",
    "password = \"password\"\n",
    "\n",
    "dataset_dir = \"/datasets/\"\n",
    "\n",
    "!python launch.py --gradio-auth $username:$password --enable-insecure-extension-access --xformers --share --ckpt-dir $dataset_dir\n"
   ],
   "id": "7f37fc20-cc4e-4444-9e51-d2dcdfd08ef8"
  }
 ],
 "nbformat": 4,
 "nbformat_minor": 5,
 "metadata": {}
}
