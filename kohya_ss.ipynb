{
 "cells": [
  {
   "cell_type": "markdown",
   "metadata": {},
   "source": [
    "# Kohya<sub>ss</sub>"
   ],
   "id": "0c9ebf8c-e688-4a43-8bfe-5889109cbbff"
  },
  {
   "cell_type": "code",
   "execution_count": null,
   "metadata": {},
   "outputs": [],
   "source": [
    "%cd /opt/kohya_ss\n",
    "\n",
    "username = \"username\"\n",
    "password = \"password\"\n",
    "\n",
    "!./gui.sh --headless --listen 127.0.0.1 --server_port 7861 --username $username --password $password --share\n"
   ],
   "id": "866687fb-3af7-4d7c-b89e-98c9a7b9264e"
  }
 ],
 "nbformat": 4,
 "nbformat_minor": 5,
 "metadata": {}
}
