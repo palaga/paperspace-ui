{
 "cells": [
  {
   "cell_type": "markdown",
   "metadata": {},
   "source": [
    "# Automatic1111"
   ],
   "id": "e05dea10-5055-4b42-8e04-31871e818745"
  },
  {
   "cell_type": "code",
   "execution_count": null,
   "metadata": {},
   "outputs": [],
   "source": [
    "%cd /opt/A1111\n",
    "\n",
    "username = \"username\"\n",
    "password = \"password\"\n",
    "\n",
    "data_dir = \"/storage/a1111/\"\n",
    "\n",
    "!python3 launch.py \\\n",
    "  --gradio-auth $username:$password \\\n",
    "  --enable-insecure-extension-access \\\n",
    "  --xformers \\\n",
    "  --share \\\n",
    "  --data-dir $data_dir\n"
   ],
   "id": "2d29c80d-97ba-41b8-865c-7e563562c7e4"
  },
  {
   "cell_type": "markdown",
   "metadata": {},
   "source": [
    "# Kohya<sub>ss</sub>"
   ],
   "id": "6c8b0448-cdaf-4392-85da-8d3b5f0c5d70"
  },
  {
   "cell_type": "code",
   "execution_count": null,
   "metadata": {},
   "outputs": [],
   "source": [
    "%cd /opt/kohya_ss\n",
    "\n",
    "username = \"username\"\n",
    "password = \"password\"\n",
    "\n",
    "!./gui.sh \\\n",
    "  --headless \\\n",
    "  --listen 127.0.0.1 \\\n",
    "  --server_port 7861 \\\n",
    "  --username $username \\\n",
    "  --password $password \\\n",
    "  --share\n"
   ],
   "id": "587029fb-3235-4e4d-a3cd-f82324624a7b"
  },
  {
   "cell_type": "markdown",
   "metadata": {},
   "source": [
    "# SDNext"
   ],
   "id": "c10b1ce4-00f7-4929-b9d7-a9443e1038f8"
  },
  {
   "cell_type": "code",
   "execution_count": null,
   "metadata": {},
   "outputs": [],
   "source": [
    "%cd /opt/sdnext\n",
    "\n",
    "username = \"username\"\n",
    "password = \"password\"\n",
    "\n",
    "data_dir = \"/storage/sdnext/\"\n",
    "\n",
    "!python3 launch.py \\\n",
    "  --gradio-auth $username:$password \\\n",
    "  --enable-insecure-extension-access \\\n",
    "  --xformers \\\n",
    "  --share \\\n",
    "  --data-dir $data_dir\n"
   ],
   "id": "8c4611f6-57b5-4689-9691-f5f85170be8b"
  },
  {
   "cell_type": "markdown",
   "metadata": {},
   "source": [
    "# ComfyUI\n",
    "\n",
    "No authentication available yet. :("
   ],
   "id": "accf1f13-c229-4f65-9118-468ad1f69309"
  },
  {
   "cell_type": "code",
   "execution_count": null,
   "metadata": {},
   "outputs": [],
   "source": [
    "%cd /opt/comfyui\n",
    "\n",
    "!ln -fs /opt/comfyui/extra_model_paths.yaml /notebooks/comfyui_config.yaml\n",
    "\n",
    "# Listen on tensorboard port\n",
    "# Comfyui should be available under https://tensorboard-NOTEBOOKID.CLUSTERID.paperspacegradient.com\n",
    "!python3 main.py --port 8008\n"
   ],
   "id": "44aa6b18-3101-4d39-92a8-44e1652ee804"
  }
 ],
 "nbformat": 4,
 "nbformat_minor": 5,
 "metadata": {}
}
