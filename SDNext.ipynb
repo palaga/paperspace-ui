{
 "cells": [
  {
   "cell_type": "markdown",
   "metadata": {},
   "source": [
    "# SDNext"
   ],
   "id": "13571455-81d0-4dd2-9702-485fbca361fe"
  },
  {
   "cell_type": "code",
   "execution_count": null,
   "metadata": {},
   "outputs": [],
   "source": [
    "%cd /opt/sdnext\n",
    "\n",
    "username = \"username\"\n",
    "password = \"password\"\n",
    "\n",
    "data_dir = \"/storage/sdnext/\"\n",
    "\n",
    "!python3 launch.py \\\n",
    "  --gradio-auth $username:$password \\\n",
    "  --enable-insecure-extension-access \\\n",
    "  --xformers \\\n",
    "  --share \\\n",
    "  --data-dir $data_dir\n"
   ],
   "id": "b79b38b3-e0f5-4b49-9d7d-04a2e8caa682"
  }
 ],
 "nbformat": 4,
 "nbformat_minor": 5,
 "metadata": {}
}
