{
 "cells": [
  {
   "cell_type": "markdown",
   "metadata": {},
   "source": [
    "# Reverse Proxy\n",
    "\n",
    "To keep access for all installations the same, I use a proper reverse\n",
    "proxy to do authentication and forwarding to the right backed.\n",
    "\n",
    "This notebook will setup HAProxy, so it can be used over the tensorboard\n",
    "URL, provided by paperspace. First, configure username and password in\n",
    "`comfyui_haproxy.cfg`. Then run the following block to get the URL and\n",
    "start HAProxy:"
   ],
   "id": "e5e2b064-a434-41bc-85a8-ae28a32db69b"
  },
  {
   "cell_type": "code",
   "execution_count": null,
   "metadata": {},
   "outputs": [],
   "source": [
    "!echo https://tensorboard-$PAPERSPACE_FQDN\n",
    "!haproxy -V -f /notebooks/haproxy.cfg\n"
   ],
   "id": "a528b986-4860-45bf-9196-4049eb81291d"
  }
 ],
 "nbformat": 4,
 "nbformat_minor": 5,
 "metadata": {}
}
