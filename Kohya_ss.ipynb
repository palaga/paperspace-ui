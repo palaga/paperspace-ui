{
 "cells": [
  {
   "cell_type": "markdown",
   "metadata": {},
   "source": [
    "# Kohya<sub>ss</sub>"
   ],
   "id": "b800ef4a-07fc-437c-8ea9-4d3cabf3a9b3"
  },
  {
   "cell_type": "code",
   "execution_count": null,
   "metadata": {},
   "outputs": [],
   "source": [
    "%cd /opt/kohya_ss\n",
    "\n",
    "username = \"username\"\n",
    "password = \"password\"\n",
    "\n",
    "!./gui.sh \\\n",
    "  --headless \\\n",
    "  --listen 127.0.0.1 \\\n",
    "  --server_port 7861 \\\n",
    "  --username $username \\\n",
    "  --password $password \\\n",
    "  --share\n"
   ],
   "id": "e3736fe6-9760-4dc1-ad59-b4b67105e90f"
  }
 ],
 "nbformat": 4,
 "nbformat_minor": 5,
 "metadata": {}
}
