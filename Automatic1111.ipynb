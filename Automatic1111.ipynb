{
 "cells": [
  {
   "cell_type": "markdown",
   "metadata": {},
   "source": [
    "# Automatic1111"
   ],
   "id": "6dd9bce9-5d0f-4aa7-af57-acf6d26ba3d2"
  },
  {
   "cell_type": "code",
   "execution_count": null,
   "metadata": {},
   "outputs": [],
   "source": [
    "%cd /opt/A1111\n",
    "\n",
    "username = \"username\"\n",
    "password = \"password\"\n",
    "\n",
    "data_dir = \"/storage/a1111/\"\n",
    "\n",
    "!python3 launch.py \\\n",
    "  --gradio-auth $username:$password \\\n",
    "  --enable-insecure-extension-access \\\n",
    "  --xformers \\\n",
    "  --share \\\n",
    "  --data-dir $data_dir\n"
   ],
   "id": "54f83c96-91d7-444f-ba7e-83ddd2dbc967"
  }
 ],
 "nbformat": 4,
 "nbformat_minor": 5,
 "metadata": {}
}
